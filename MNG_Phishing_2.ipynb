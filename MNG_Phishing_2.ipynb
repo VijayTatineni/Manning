{
  "nbformat": 4,
  "nbformat_minor": 0,
  "metadata": {
    "colab": {
      "name": "MNG_Phishing_2.ipynb",
      "provenance": []
    },
    "kernelspec": {
      "name": "python3",
      "display_name": "Python 3"
    }
  },
  "cells": [
    {
      "cell_type": "markdown",
      "metadata": {
        "id": "gM3_Sv2pRTcB",
        "colab_type": "text"
      },
      "source": [
        "**Detecting Phishing Websites using Machine Learning and Python - Part 2: Further data investigation and preparing investigation reports**"
      ]
    },
    {
      "cell_type": "code",
      "metadata": {
        "id": "oglzuPY8xWR_",
        "colab_type": "code",
        "colab": {}
      },
      "source": [
        "# upgrading TensorFlow to avoid attribute error while setting the seed by using set_seed\n",
        "pip install --upgrade tensorflow==2.0.0-rc1"
      ],
      "execution_count": 0,
      "outputs": []
    },
    {
      "cell_type": "code",
      "metadata": {
        "id": "wNQhYEV3O9hc",
        "colab_type": "code",
        "colab": {}
      },
      "source": [
        "import pandas as pd\n",
        "import numpy as np\n",
        "import tensorflow as tf\n",
        "\n",
        "# fixing the random seed for reproducibility\n",
        "np.random.seed(11)\n",
        "tf.random.set_seed(22)\n",
        "\n",
        "# Saving the filepath of 'Phishing.csv' saved in the GitHub repository\n",
        "filepath = \"https://raw.githubusercontent.com/sayakpaul/Manning-Phishing-Websites-Detection/master/Phishing.csv\"\n",
        "\n",
        "# Loading the .csv into a DataFrame\n",
        "phishing_data = pd.read_csv(filepath)\n"
      ],
      "execution_count": 0,
      "outputs": []
    },
    {
      "cell_type": "code",
      "metadata": {
        "colab_type": "code",
        "outputId": "478c0c24-37b9-4d82-9d8b-19745c1e49b8",
        "id": "dftlAGqPdrq3",
        "colab": {
          "base_uri": "https://localhost:8080/",
          "height": 69
        }
      },
      "source": [
        "# import counter class from collections module \n",
        "from collections import Counter \n",
        "\n",
        "# Creation of a Counter Class object to extract the class distribution from the data in 'Result' column\n",
        "class_info = Counter(phishing_data['Result'])\n",
        "\n",
        "# Converting class-info into a pandas dataframe in the specified format\n",
        "class_info = pd.DataFrame.from_dict(class_info, orient='index')\n",
        "class_info = class_info.sort_values(0, ascending=False)\n",
        "class_info = class_info.reset_index()\n",
        "# Renaming the columns\n",
        "class_info = class_info.rename(columns={'index':'Class', 0:'Num_Observations'})\n",
        "\n",
        "print(class_info)\n",
        "\n"
      ],
      "execution_count": 46,
      "outputs": [
        {
          "output_type": "stream",
          "text": [
            "   Class  Num_Observations\n",
            "0      1              6157\n",
            "1     -1              4898\n"
          ],
          "name": "stdout"
        }
      ]
    },
    {
      "cell_type": "code",
      "metadata": {
        "id": "XEqGdUAvgTny",
        "colab_type": "code",
        "colab": {
          "base_uri": "https://localhost:8080/",
          "height": 313
        },
        "outputId": "0a869f78-eba9-4acb-a516-db58af9d4b2c"
      },
      "source": [
        "# Creating a simple bar plot to visualize the class distribution\n",
        "import matplotlib.pyplot as plt\n",
        "\n",
        "# Plotting separate bars for the two classes -1(red) and 1(blue)\n",
        "plt.barh(class_info['Class'][0], class_info['Num_Observations'][0])\n",
        "plt.barh(class_info['Class'][1], class_info['Num_Observations'][1], color='r')\n",
        "\n",
        "# Setting the attributes like title and axes labels for the graph\n",
        "plt.xlabel('Num_Observations')\n",
        "plt.ylabel('Class')\n",
        "plt.title('Class distributions of the websites')\n"
      ],
      "execution_count": 47,
      "outputs": [
        {
          "output_type": "execute_result",
          "data": {
            "text/plain": [
              "Text(0.5, 1.0, 'Class distributions of the websites')"
            ]
          },
          "metadata": {
            "tags": []
          },
          "execution_count": 47
        },
        {
          "output_type": "display_data",
          "data": {
            "image/png": "[encoded data removed]",
            "text/plain": [
              "<Figure size 432x288 with 1 Axes>"
            ]
          },
          "metadata": {
            "tags": []
          }
        }
      ]
    }
  ]
}
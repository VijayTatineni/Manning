{
  "nbformat": 4,
  "nbformat_minor": 0,
  "metadata": {
    "colab": {
      "name": "manning-LP.ipynb",
      "provenance": []
    },
    "kernelspec": {
      "name": "python3",
      "display_name": "Python 3"
    }
  },
  "cells": [
    {
      "cell_type": "markdown",
      "metadata": {
        "id": "gM3_Sv2pRTcB",
        "colab_type": "text"
      },
      "source": [
        "    Manning LiveProject on phishing data"
      ]
    },
    {
      "cell_type": "code",
      "metadata": {
        "id": "oglzuPY8xWR_",
        "colab_type": "code",
        "colab": {}
      },
      "source": [
        "# upgrading TensorFlow to avoid attribute error while setting the seed by using set_seed\n",
        "pip install --upgrade tensorflow==2.0.0-rc1"
      ],
      "execution_count": 0,
      "outputs": []
    },
    {
      "cell_type": "code",
      "metadata": {
        "id": "wNQhYEV3O9hc",
        "colab_type": "code",
        "colab": {}
      },
      "source": [
        "import pandas as pd\n",
        "import numpy as np\n",
        "import tensorflow as tf\n",
        "\n",
        "# fixing the random seed for reproducibility\n",
        "np.random.seed(11)\n",
        "tf.random.set_seed(22)\n",
        "\n",
        "# Saving the filepath of 'Phishing.csv' saved in the GitHub repository\n",
        "filepath = \"https://raw.githubusercontent.com/sayakpaul/Manning-Phishing-Websites-Detection/master/Phishing.csv\"\n",
        "\n",
        "# Loading the .csv into a DataFrame\n",
        "phishing_data = pd.read_csv(filepath)\n"
      ],
      "execution_count": 0,
      "outputs": []
    },
    {
      "cell_type": "code",
      "metadata": {
        "id": "os68nRnSWC1O",
        "colab_type": "code",
        "colab": {}
      },
      "source": [
        "# printing the first 10 rows of Phishing.csv dataset\n",
        "phishing_data.head(10)"
      ],
      "execution_count": 0,
      "outputs": []
    },
    {
      "cell_type": "code",
      "metadata": {
        "id": "uAyq69kJaOXI",
        "colab_type": "code",
        "colab": {}
      },
      "source": [
        "# Extracting the features to have a look\n",
        "phishing_data.columns"
      ],
      "execution_count": 0,
      "outputs": []
    },
    {
      "cell_type": "code",
      "metadata": {
        "id": "Y4RzjMZqfiQN",
        "colab_type": "code",
        "colab": {}
      },
      "source": [
        "phishing_data.info()"
      ],
      "execution_count": 0,
      "outputs": []
    },
    {
      "cell_type": "code",
      "metadata": {
        "id": "6muhJYpRWj_G",
        "colab_type": "code",
        "colab": {}
      },
      "source": [
        "# knowing the number of rows and columns in the Phishing.csv dataset\n",
        "phishing_data.shape"
      ],
      "execution_count": 0,
      "outputs": []
    },
    {
      "cell_type": "code",
      "metadata": {
        "id": "XG5kW4bAf-J-",
        "colab_type": "code",
        "colab": {}
      },
      "source": [
        "# unique labels from the Result column\n",
        "phishing_data['Result'].unique()"
      ],
      "execution_count": 0,
      "outputs": []
    }
  ]
}